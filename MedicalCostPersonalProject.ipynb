{
 "cells": [
  {
   "cell_type": "markdown",
   "id": "0a89ec36",
   "metadata": {},
   "source": [
    "# Step 1: Importing libraries"
   ]
  },
  {
   "cell_type": "code",
   "execution_count": 76,
   "id": "2b69b7b0",
   "metadata": {},
   "outputs": [],
   "source": [
    "import numpy as np\n",
    "import pandas as pd\n",
    "import matplotlib.pyplot as plt\n",
    "import seaborn as sns\n",
    "import random\n",
    "from sklearn.metrics import mean_squared_error, r2_score, mean_absolute_error\n",
    "from sklearn.linear_model import LinearRegression\n",
    "from sklearn.ensemble import RandomForestRegressor\n",
    "from sklearn.svm import SVR\n",
    "from sklearn.metrics import r2_score\n",
    "from sklearn.preprocessing import LabelEncoder\n",
    "from sklearn.preprocessing import StandardScaler\n",
    "from sklearn.model_selection import train_test_split\n",
    "from sklearn.tree import DecisionTreeRegressor\n",
    "from sklearn.neighbors import KNeighborsRegressor"
   ]
  },
  {
   "cell_type": "markdown",
   "id": "002e381a",
   "metadata": {},
   "source": [
    "# Step 2: Loading the dataset"
   ]
  },
  {
   "cell_type": "code",
   "execution_count": 77,
   "id": "495eb8ea",
   "metadata": {},
   "outputs": [
    {
     "data": {
      "text/html": [
       "<div>\n",
       "<style scoped>\n",
       "    .dataframe tbody tr th:only-of-type {\n",
       "        vertical-align: middle;\n",
       "    }\n",
       "\n",
       "    .dataframe tbody tr th {\n",
       "        vertical-align: top;\n",
       "    }\n",
       "\n",
       "    .dataframe thead th {\n",
       "        text-align: right;\n",
       "    }\n",
       "</style>\n",
       "<table border=\"1\" class=\"dataframe\">\n",
       "  <thead>\n",
       "    <tr style=\"text-align: right;\">\n",
       "      <th></th>\n",
       "      <th>age</th>\n",
       "      <th>sex</th>\n",
       "      <th>bmi</th>\n",
       "      <th>children</th>\n",
       "      <th>smoker</th>\n",
       "      <th>region</th>\n",
       "      <th>charges</th>\n",
       "    </tr>\n",
       "  </thead>\n",
       "  <tbody>\n",
       "    <tr>\n",
       "      <th>0</th>\n",
       "      <td>19</td>\n",
       "      <td>female</td>\n",
       "      <td>27.90</td>\n",
       "      <td>0</td>\n",
       "      <td>yes</td>\n",
       "      <td>southwest</td>\n",
       "      <td>16884.92</td>\n",
       "    </tr>\n",
       "    <tr>\n",
       "      <th>1</th>\n",
       "      <td>18</td>\n",
       "      <td>male</td>\n",
       "      <td>33.77</td>\n",
       "      <td>1</td>\n",
       "      <td>no</td>\n",
       "      <td>southeast</td>\n",
       "      <td>1725.55</td>\n",
       "    </tr>\n",
       "    <tr>\n",
       "      <th>2</th>\n",
       "      <td>28</td>\n",
       "      <td>male</td>\n",
       "      <td>33.00</td>\n",
       "      <td>3</td>\n",
       "      <td>no</td>\n",
       "      <td>southeast</td>\n",
       "      <td>4449.46</td>\n",
       "    </tr>\n",
       "    <tr>\n",
       "      <th>3</th>\n",
       "      <td>33</td>\n",
       "      <td>male</td>\n",
       "      <td>22.70</td>\n",
       "      <td>0</td>\n",
       "      <td>no</td>\n",
       "      <td>northwest</td>\n",
       "      <td>21984.47</td>\n",
       "    </tr>\n",
       "    <tr>\n",
       "      <th>4</th>\n",
       "      <td>32</td>\n",
       "      <td>male</td>\n",
       "      <td>28.88</td>\n",
       "      <td>0</td>\n",
       "      <td>no</td>\n",
       "      <td>northwest</td>\n",
       "      <td>3866.86</td>\n",
       "    </tr>\n",
       "    <tr>\n",
       "      <th>5</th>\n",
       "      <td>31</td>\n",
       "      <td>female</td>\n",
       "      <td>25.74</td>\n",
       "      <td>0</td>\n",
       "      <td>no</td>\n",
       "      <td>southeast</td>\n",
       "      <td>3756.62</td>\n",
       "    </tr>\n",
       "    <tr>\n",
       "      <th>6</th>\n",
       "      <td>46</td>\n",
       "      <td>female</td>\n",
       "      <td>33.44</td>\n",
       "      <td>1</td>\n",
       "      <td>no</td>\n",
       "      <td>southeast</td>\n",
       "      <td>8240.59</td>\n",
       "    </tr>\n",
       "    <tr>\n",
       "      <th>7</th>\n",
       "      <td>37</td>\n",
       "      <td>female</td>\n",
       "      <td>27.74</td>\n",
       "      <td>3</td>\n",
       "      <td>no</td>\n",
       "      <td>northwest</td>\n",
       "      <td>7281.51</td>\n",
       "    </tr>\n",
       "    <tr>\n",
       "      <th>8</th>\n",
       "      <td>37</td>\n",
       "      <td>male</td>\n",
       "      <td>29.83</td>\n",
       "      <td>2</td>\n",
       "      <td>no</td>\n",
       "      <td>northeast</td>\n",
       "      <td>6406.41</td>\n",
       "    </tr>\n",
       "    <tr>\n",
       "      <th>9</th>\n",
       "      <td>60</td>\n",
       "      <td>female</td>\n",
       "      <td>25.84</td>\n",
       "      <td>0</td>\n",
       "      <td>no</td>\n",
       "      <td>northwest</td>\n",
       "      <td>28923.14</td>\n",
       "    </tr>\n",
       "  </tbody>\n",
       "</table>\n",
       "</div>"
      ],
      "text/plain": [
       "   age     sex   bmi  children smoker     region  charges\n",
       "0   19  female 27.90         0    yes  southwest 16884.92\n",
       "1   18    male 33.77         1     no  southeast  1725.55\n",
       "2   28    male 33.00         3     no  southeast  4449.46\n",
       "3   33    male 22.70         0     no  northwest 21984.47\n",
       "4   32    male 28.88         0     no  northwest  3866.86\n",
       "5   31  female 25.74         0     no  southeast  3756.62\n",
       "6   46  female 33.44         1     no  southeast  8240.59\n",
       "7   37  female 27.74         3     no  northwest  7281.51\n",
       "8   37    male 29.83         2     no  northeast  6406.41\n",
       "9   60  female 25.84         0     no  northwest 28923.14"
      ]
     },
     "execution_count": 77,
     "metadata": {},
     "output_type": "execute_result"
    }
   ],
   "source": [
    "df=pd.read_csv(\"insurance.csv\")\n",
    "df.head(10)"
   ]
  },
  {
   "cell_type": "markdown",
   "id": "2a7d7b3a",
   "metadata": {},
   "source": [
    "# Step 3: Data preprocessing"
   ]
  },
  {
   "cell_type": "markdown",
   "id": "95adaead",
   "metadata": {},
   "source": [
    "# Set the display precision for floating-point numbers"
   ]
  },
  {
   "cell_type": "code",
   "execution_count": 78,
   "id": "7460dced",
   "metadata": {},
   "outputs": [],
   "source": [
    "pd.set_option('display.float_format', '{:.2f}'.format)"
   ]
  },
  {
   "cell_type": "markdown",
   "id": "3c1d930f",
   "metadata": {},
   "source": [
    "# Handling missing values"
   ]
  },
  {
   "cell_type": "code",
   "execution_count": 79,
   "id": "f81fa707",
   "metadata": {},
   "outputs": [
    {
     "data": {
      "text/plain": [
       "age         0\n",
       "sex         0\n",
       "bmi         0\n",
       "children    0\n",
       "smoker      0\n",
       "region      0\n",
       "charges     0\n",
       "dtype: int64"
      ]
     },
     "execution_count": 79,
     "metadata": {},
     "output_type": "execute_result"
    }
   ],
   "source": [
    "#check if there is null values\n",
    "df.isnull().sum() # => there isn't fortunately so we will proceed"
   ]
  },
  {
   "cell_type": "markdown",
   "id": "be39bc93",
   "metadata": {},
   "source": [
    "# Removing any duplicates"
   ]
  },
  {
   "cell_type": "code",
   "execution_count": 80,
   "id": "e06346c4",
   "metadata": {},
   "outputs": [],
   "source": [
    "#removing duplicates (if there is any)\n",
    "df.drop_duplicates(inplace=True)"
   ]
  },
  {
   "cell_type": "markdown",
   "id": "29338861",
   "metadata": {},
   "source": [
    "# Detecting and handling the outliers"
   ]
  },
  {
   "cell_type": "code",
   "execution_count": 81,
   "id": "bf61f63b",
   "metadata": {},
   "outputs": [],
   "source": [
    "def limits(data,feature):\n",
    "    Q1=data[feature].quantile(0.25)\n",
    "    Q3=data[feature].quantile(0.75)\n",
    "    IQR=Q3-Q1\n",
    "    lower_limit=Q1-1.5*IQR\n",
    "    upper_limit=Q3+1.5*IQR\n",
    "    \n",
    "    return lower_limit,upper_limit\n",
    "lower_limit,upper_limit=limits(df,\"bmi\")\n",
    "\n",
    "df[\"bmi\"]=np.where(df[\"bmi\"]>upper_limit,upper_limit,\n",
    "                  np.where(df[\"bmi\"]<lower_limit,lower_limit,df[\"bmi\"]))"
   ]
  },
  {
   "cell_type": "markdown",
   "id": "1586a139",
   "metadata": {},
   "source": [
    "# Encode categorical features"
   ]
  },
  {
   "cell_type": "code",
   "execution_count": 82,
   "id": "7d1f86da",
   "metadata": {},
   "outputs": [
    {
     "data": {
      "text/html": [
       "<div>\n",
       "<style scoped>\n",
       "    .dataframe tbody tr th:only-of-type {\n",
       "        vertical-align: middle;\n",
       "    }\n",
       "\n",
       "    .dataframe tbody tr th {\n",
       "        vertical-align: top;\n",
       "    }\n",
       "\n",
       "    .dataframe thead th {\n",
       "        text-align: right;\n",
       "    }\n",
       "</style>\n",
       "<table border=\"1\" class=\"dataframe\">\n",
       "  <thead>\n",
       "    <tr style=\"text-align: right;\">\n",
       "      <th></th>\n",
       "      <th>age</th>\n",
       "      <th>sex</th>\n",
       "      <th>bmi</th>\n",
       "      <th>children</th>\n",
       "      <th>smoker</th>\n",
       "      <th>region</th>\n",
       "      <th>charges</th>\n",
       "    </tr>\n",
       "  </thead>\n",
       "  <tbody>\n",
       "    <tr>\n",
       "      <th>0</th>\n",
       "      <td>19</td>\n",
       "      <td>0</td>\n",
       "      <td>27.90</td>\n",
       "      <td>0</td>\n",
       "      <td>1</td>\n",
       "      <td>3</td>\n",
       "      <td>16884.92</td>\n",
       "    </tr>\n",
       "    <tr>\n",
       "      <th>1</th>\n",
       "      <td>18</td>\n",
       "      <td>1</td>\n",
       "      <td>33.77</td>\n",
       "      <td>1</td>\n",
       "      <td>0</td>\n",
       "      <td>2</td>\n",
       "      <td>1725.55</td>\n",
       "    </tr>\n",
       "    <tr>\n",
       "      <th>2</th>\n",
       "      <td>28</td>\n",
       "      <td>1</td>\n",
       "      <td>33.00</td>\n",
       "      <td>3</td>\n",
       "      <td>0</td>\n",
       "      <td>2</td>\n",
       "      <td>4449.46</td>\n",
       "    </tr>\n",
       "    <tr>\n",
       "      <th>3</th>\n",
       "      <td>33</td>\n",
       "      <td>1</td>\n",
       "      <td>22.70</td>\n",
       "      <td>0</td>\n",
       "      <td>0</td>\n",
       "      <td>1</td>\n",
       "      <td>21984.47</td>\n",
       "    </tr>\n",
       "    <tr>\n",
       "      <th>4</th>\n",
       "      <td>32</td>\n",
       "      <td>1</td>\n",
       "      <td>28.88</td>\n",
       "      <td>0</td>\n",
       "      <td>0</td>\n",
       "      <td>1</td>\n",
       "      <td>3866.86</td>\n",
       "    </tr>\n",
       "    <tr>\n",
       "      <th>...</th>\n",
       "      <td>...</td>\n",
       "      <td>...</td>\n",
       "      <td>...</td>\n",
       "      <td>...</td>\n",
       "      <td>...</td>\n",
       "      <td>...</td>\n",
       "      <td>...</td>\n",
       "    </tr>\n",
       "    <tr>\n",
       "      <th>1333</th>\n",
       "      <td>50</td>\n",
       "      <td>1</td>\n",
       "      <td>30.97</td>\n",
       "      <td>3</td>\n",
       "      <td>0</td>\n",
       "      <td>1</td>\n",
       "      <td>10600.55</td>\n",
       "    </tr>\n",
       "    <tr>\n",
       "      <th>1334</th>\n",
       "      <td>18</td>\n",
       "      <td>0</td>\n",
       "      <td>31.92</td>\n",
       "      <td>0</td>\n",
       "      <td>0</td>\n",
       "      <td>0</td>\n",
       "      <td>2205.98</td>\n",
       "    </tr>\n",
       "    <tr>\n",
       "      <th>1335</th>\n",
       "      <td>18</td>\n",
       "      <td>0</td>\n",
       "      <td>36.85</td>\n",
       "      <td>0</td>\n",
       "      <td>0</td>\n",
       "      <td>2</td>\n",
       "      <td>1629.83</td>\n",
       "    </tr>\n",
       "    <tr>\n",
       "      <th>1336</th>\n",
       "      <td>21</td>\n",
       "      <td>0</td>\n",
       "      <td>25.80</td>\n",
       "      <td>0</td>\n",
       "      <td>0</td>\n",
       "      <td>3</td>\n",
       "      <td>2007.94</td>\n",
       "    </tr>\n",
       "    <tr>\n",
       "      <th>1337</th>\n",
       "      <td>61</td>\n",
       "      <td>0</td>\n",
       "      <td>29.07</td>\n",
       "      <td>0</td>\n",
       "      <td>1</td>\n",
       "      <td>1</td>\n",
       "      <td>29141.36</td>\n",
       "    </tr>\n",
       "  </tbody>\n",
       "</table>\n",
       "<p>1337 rows × 7 columns</p>\n",
       "</div>"
      ],
      "text/plain": [
       "      age  sex   bmi  children  smoker  region  charges\n",
       "0      19    0 27.90         0       1       3 16884.92\n",
       "1      18    1 33.77         1       0       2  1725.55\n",
       "2      28    1 33.00         3       0       2  4449.46\n",
       "3      33    1 22.70         0       0       1 21984.47\n",
       "4      32    1 28.88         0       0       1  3866.86\n",
       "...   ...  ...   ...       ...     ...     ...      ...\n",
       "1333   50    1 30.97         3       0       1 10600.55\n",
       "1334   18    0 31.92         0       0       0  2205.98\n",
       "1335   18    0 36.85         0       0       2  1629.83\n",
       "1336   21    0 25.80         0       0       3  2007.94\n",
       "1337   61    0 29.07         0       1       1 29141.36\n",
       "\n",
       "[1337 rows x 7 columns]"
      ]
     },
     "execution_count": 82,
     "metadata": {},
     "output_type": "execute_result"
    }
   ],
   "source": [
    "#the categorical features that we have are: sex,smoker and region\n",
    "categorical_features=[\"sex\",\"smoker\",\"region\"]\n",
    "\n",
    "#initialize label encoder\n",
    "label_encoder=LabelEncoder()\n",
    "\n",
    "#apply label encoder to each categorical feature\n",
    "df[categorical_features]=df[categorical_features].apply(lambda feature: label_encoder.fit_transform(feature))\n",
    "\n",
    "#modified dataframe\n",
    "df"
   ]
  },
  {
   "cell_type": "markdown",
   "id": "4414e777",
   "metadata": {},
   "source": [
    "# Split dataset into training, test and validation"
   ]
  },
  {
   "cell_type": "code",
   "execution_count": 83,
   "id": "31af4313",
   "metadata": {
    "pycharm": {
     "is_executing": true
    }
   },
   "outputs": [],
   "source": [
    "#putting each features and output to variables\n",
    "x=df.iloc[:,:-1] #features (independent variables)\n",
    "y=df.iloc[:,-1]  #output (dependent variable)\n",
    "\n",
    "#splitting the data to training, validation and testing\n",
    "x = x.values\n",
    "y = y.values\n",
    "x_temp, x_test, y_temp, y_test = train_test_split(x,y,test_size=(1 - (1000/len(x))) ,random_state=4)\n",
    "x_train, x_val, y_train, y_val = train_test_split(x_temp,y_temp,test_size= (250/len(x_temp)) ,random_state=4)"
   ]
  },
  {
   "cell_type": "markdown",
   "id": "199a64e6",
   "metadata": {},
   "source": [
    "# Feature scaling"
   ]
  },
  {
   "cell_type": "code",
   "execution_count": 90,
   "id": "e219826b",
   "metadata": {},
   "outputs": [],
   "source": [
    "#initialize Standard Scaler\n",
    "scaler=StandardScaler()\n",
    "\n",
    "#compute mean and standard deviation in x_train needed to standardize and scaling x_train\n",
    "x_train=scaler.fit_transform(x_train)\n",
    "\n",
    "#using the same scaler to standardize and scaling x_val and x_test\n",
    "x_test=scaler.transform(x_test)\n",
    "x_val=scaler.transform(x_val)"
   ]
  },
  {
   "cell_type": "markdown",
   "id": "c3179bba",
   "metadata": {},
   "source": [
    "# Step 4: Modelling"
   ]
  },
  {
   "cell_type": "markdown",
   "id": "4a48447d",
   "metadata": {},
   "source": [
    "# Linear regression"
   ]
  },
  {
   "cell_type": "code",
   "execution_count": 85,
   "id": "7a34cbdf",
   "metadata": {},
   "outputs": [],
   "source": [
    "liner = LinearRegression()\n",
    "liner.fit(x_train,y_train)\n",
    "y_pred = liner.predict(x_test)\n",
    "Liner_r2_score = r2_score(y_test,y_pred)*100"
   ]
  },
  {
   "cell_type": "markdown",
   "id": "6fafb19d",
   "metadata": {},
   "source": [
    "# Random forest"
   ]
  },
  {
   "cell_type": "code",
   "execution_count": 86,
   "id": "8f4a2018",
   "metadata": {},
   "outputs": [],
   "source": [
    "RF_r2_score_val = 0\n",
    "for n_trees in range(10,100,10):\n",
    "    rf = RandomForestRegressor(n_estimators=n_trees, random_state=4)\n",
    "    rf.fit(x_train, y_train)\n",
    "    y_val_pred = rf.predict(x_val)\n",
    "    if r2_score(y_val, y_val_pred) * 100 >= RF_r2_score_val:\n",
    "        RF_r2_score_val = r2_score(y_val, y_val_pred) * 100\n",
    "        best_n_trees = n_trees\n",
    "\n",
    "\n",
    "rf = RandomForestRegressor(n_estimators=best_n_trees, random_state=4)\n",
    "rf.fit(x_train,y_train)\n",
    "y_test_pred = rf.predict(x_test)\n",
    "RF_r2_score = r2_score(y_test,y_test_pred)*100"
   ]
  },
  {
   "cell_type": "markdown",
   "id": "88afd5d8",
   "metadata": {},
   "source": [
    "# KNN"
   ]
  },
  {
   "cell_type": "code",
   "execution_count": 87,
   "id": "bf22d2f4",
   "metadata": {},
   "outputs": [],
   "source": [
    "KNN_r2_score_val = 0\n",
    "for k in range(1,15):\n",
    "    knn = KNeighborsRegressor(n_neighbors=k)\n",
    "    knn.fit(x_train, y_train)\n",
    "    y_val_pred = knn.predict(x_val)\n",
    "    if r2_score(y_val, y_val_pred) * 100 > KNN_r2_score_val:\n",
    "        KNN_r2_score_val = r2_score(y_val, y_val_pred) * 100\n",
    "        best_k = k\n",
    "\n",
    "knn = KNeighborsRegressor(n_neighbors=best_k)\n",
    "knn.fit(x_train,y_train)\n",
    "y_test_pred = knn.predict(x_test)\n",
    "KNN_r2_score = r2_score(y_test,y_test_pred)*100"
   ]
  },
  {
   "cell_type": "markdown",
   "id": "ce8773d6",
   "metadata": {},
   "source": [
    "# Step 5: Printing the accuracy of each model"
   ]
  },
  {
   "cell_type": "code",
   "execution_count": 88,
   "id": "904e6f8c",
   "metadata": {},
   "outputs": [
    {
     "name": "stdout",
     "output_type": "stream",
     "text": [
      "Linear Regression Accuracy: 75.85 %\n",
      "Random Forest Regression Accuracy:86.31 %\n",
      "KNN Regression Accuracy: 83.71 %\n"
     ]
    }
   ],
   "source": [
    "print(\"Linear Regression Accuracy: %.2f\" % Liner_r2_score ,\"%\")\n",
    "print(\"Random Forest Regression Accuracy:%.2f\" % RF_r2_score,\"%\")\n",
    "print(\"KNN Regression Accuracy: %.2f\" % KNN_r2_score,\"%\")"
   ]
  },
  {
   "cell_type": "code",
   "execution_count": null,
   "id": "ab174817",
   "metadata": {},
   "outputs": [],
   "source": []
  }
 ],
 "metadata": {
  "kernelspec": {
   "display_name": "Python 3 (ipykernel)",
   "language": "python",
   "name": "python3"
  },
  "language_info": {
   "codemirror_mode": {
    "name": "ipython",
    "version": 3
   },
   "file_extension": ".py",
   "mimetype": "text/x-python",
   "name": "python",
   "nbconvert_exporter": "python",
   "pygments_lexer": "ipython3",
   "version": "3.11.5"
  }
 },
 "nbformat": 4,
 "nbformat_minor": 5
}
